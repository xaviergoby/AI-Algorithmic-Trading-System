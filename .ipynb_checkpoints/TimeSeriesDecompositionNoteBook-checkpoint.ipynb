{
 "cells": [
  {
   "cell_type": "markdown",
   "metadata": {},
   "source": [
    "##Time Series Decomposition##\n"
   ]
  },
  {
   "cell_type": "markdown",
   "metadata": {},
   "source": [
    "A time series, TS, is usually broken down into 4 components:\n",
    "\n",
    "1) Trend component\n",
    "\t- Reflects the long-term progression/behaviour of a TS (secular variation)\n",
    "\t- A trend is present in a TS if there is a persistent increase or decrease occuring in a certain direction\n",
    "\t- Does not need to be linear\n",
    "\n",
    "2) Cyclical component\n",
    "\t- Reflects repeating, non-periodic fluctuations present within a TS\n",
    "\t- \"The duration of these fluctuations is usually of at least two years.\" - Wikipedia, Decomposition of time series\n",
    "\n",
    "3) Seasonal component\n",
    "\t- Reflects the seasonality (seasonal variation) present in a TS\n",
    "\t- A seasonal pattern exists when a time series is influenced by seasonal factors\n",
    "\t- Seasonality occurs over a fixed and known period of time (e.g. the 1/4 of a year, the month or the day of the weeek)\n",
    "\n",
    "4) Residual (aka \"noise\"?) component\n",
    "\t- Represents the remains of a TS after all its other components have been removed from it "
   ]
  },
  {
   "cell_type": "code",
   "execution_count": null,
   "metadata": {},
   "outputs": [],
   "source": []
  }
 ],
 "metadata": {
  "kernelspec": {
   "display_name": "AlgoTradingEnvV2",
   "language": "python",
   "name": "python3"
  },
  "language_info": {
   "codemirror_mode": {
    "name": "ipython",
    "version": 3
   },
   "file_extension": ".py",
   "mimetype": "text/x-python",
   "name": "python",
   "nbconvert_exporter": "python",
   "pygments_lexer": "ipython3",
   "version": "3.6.7"
  }
 },
 "nbformat": 4,
 "nbformat_minor": 2
}
